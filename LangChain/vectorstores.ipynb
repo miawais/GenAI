{
 "cells": [
  {
   "cell_type": "markdown",
   "metadata": {},
   "source": [
    "**VectorStore FIASS**"
   ]
  },
  {
   "cell_type": "code",
   "execution_count": 4,
   "metadata": {},
   "outputs": [],
   "source": [
    "from langchain_community.document_loaders import TextLoader\n",
    "from langchain_community.vectorstores import FAISS\n",
    "from langchain_community.embeddings import OllamaEmbeddings\n",
    "from langchain_text_splitters import CharacterTextSplitter\n"
   ]
  },
  {
   "cell_type": "code",
   "execution_count": 5,
   "metadata": {},
   "outputs": [],
   "source": [
    "loader=TextLoader(\"textdata.txt\")\n",
    "documents=loader.load()"
   ]
  },
  {
   "cell_type": "code",
   "execution_count": 23,
   "metadata": {},
   "outputs": [
    {
     "name": "stderr",
     "output_type": "stream",
     "text": [
      "Created a chunk of size 367, which is longer than the specified 10\n"
     ]
    },
    {
     "data": {
      "text/plain": [
       "[Document(metadata={'source': 'textdata.txt'}, page_content='Artificial Intelligence (AI) is rapidly transforming the healthcare industry, offering new possibilities in diagnosis, treatment, and patient care. From machine learning algorithms that can analyze medical images to natural language processing tools that help in the interpretation of clinical notes, AI has the potential to revolutionize how healthcare is delivered.'),\n",
       " Document(metadata={'source': 'textdata.txt'}, page_content='One of the most promising applications of AI is in the field of medical imaging. Machine learning models are now able to detect diseases like cancer at an early stage with greater accuracy than traditional methods. For example, AI-powered software can analyze mammograms to identify tumors that may be missed by the human eye. This can lead to earlier diagnoses and better patient outcomes.')]"
      ]
     },
     "execution_count": 23,
     "metadata": {},
     "output_type": "execute_result"
    }
   ],
   "source": [
    "text_splitter=CharacterTextSplitter( chunk_size=10,chunk_overlap=2)\n",
    "docs=text_splitter.split_documents(documents)\n",
    "docs"
   ]
  },
  {
   "cell_type": "code",
   "execution_count": 24,
   "metadata": {},
   "outputs": [],
   "source": [
    "embeddings=(\n",
    "    OllamaEmbeddings(model=\"gemma:2b\")\n",
    ")\n"
   ]
  },
  {
   "cell_type": "code",
   "execution_count": 25,
   "metadata": {},
   "outputs": [],
   "source": [
    "\n",
    "# Create the FAISS vector store from documents and embeddings\n",
    "db = FAISS.from_documents(docs, embeddings)\n"
   ]
  },
  {
   "cell_type": "code",
   "execution_count": 26,
   "metadata": {},
   "outputs": [
    {
     "data": {
      "text/plain": [
       "[Document(metadata={'source': 'textdata.txt'}, page_content='Artificial Intelligence (AI) is rapidly transforming the healthcare industry, offering new possibilities in diagnosis, treatment, and patient care. From machine learning algorithms that can analyze medical images to natural language processing tools that help in the interpretation of clinical notes, AI has the potential to revolutionize how healthcare is delivered.'),\n",
       " Document(metadata={'source': 'textdata.txt'}, page_content='One of the most promising applications of AI is in the field of medical imaging. Machine learning models are now able to detect diseases like cancer at an early stage with greater accuracy than traditional methods. For example, AI-powered software can analyze mammograms to identify tumors that may be missed by the human eye. This can lead to earlier diagnoses and better patient outcomes.')]"
      ]
     },
     "execution_count": 26,
     "metadata": {},
     "output_type": "execute_result"
    }
   ],
   "source": [
    "# Perform similarity search\n",
    "query = \"What is Artificial Intelligence?\"\n",
    "docs = db.similarity_search(query)\n",
    "\n",
    "# Output the resulting documents\n",
    "docs\n"
   ]
  },
  {
   "cell_type": "markdown",
   "metadata": {},
   "source": [
    "**Accessing VectoreStore DB As Retreiver**"
   ]
  },
  {
   "cell_type": "code",
   "execution_count": 27,
   "metadata": {},
   "outputs": [
    {
     "data": {
      "text/plain": [
       "[Document(metadata={'source': 'textdata.txt'}, page_content='Artificial Intelligence (AI) is rapidly transforming the healthcare industry, offering new possibilities in diagnosis, treatment, and patient care. From machine learning algorithms that can analyze medical images to natural language processing tools that help in the interpretation of clinical notes, AI has the potential to revolutionize how healthcare is delivered.'),\n",
       " Document(metadata={'source': 'textdata.txt'}, page_content='One of the most promising applications of AI is in the field of medical imaging. Machine learning models are now able to detect diseases like cancer at an early stage with greater accuracy than traditional methods. For example, AI-powered software can analyze mammograms to identify tumors that may be missed by the human eye. This can lead to earlier diagnoses and better patient outcomes.')]"
      ]
     },
     "execution_count": 27,
     "metadata": {},
     "output_type": "execute_result"
    }
   ],
   "source": [
    "retriever=db.as_retriever()\n",
    "retriever.invoke(query)"
   ]
  },
  {
   "cell_type": "markdown",
   "metadata": {},
   "source": [
    "**Similarity Search With Score**"
   ]
  },
  {
   "cell_type": "code",
   "execution_count": 28,
   "metadata": {},
   "outputs": [],
   "source": [
    "docs_and_score=db.similarity_search_with_score(query)"
   ]
  },
  {
   "cell_type": "code",
   "execution_count": 29,
   "metadata": {},
   "outputs": [
    {
     "data": {
      "text/plain": [
       "[(Document(metadata={'source': 'textdata.txt'}, page_content='Artificial Intelligence (AI) is rapidly transforming the healthcare industry, offering new possibilities in diagnosis, treatment, and patient care. From machine learning algorithms that can analyze medical images to natural language processing tools that help in the interpretation of clinical notes, AI has the potential to revolutionize how healthcare is delivered.'),\n",
       "  2399.838),\n",
       " (Document(metadata={'source': 'textdata.txt'}, page_content='One of the most promising applications of AI is in the field of medical imaging. Machine learning models are now able to detect diseases like cancer at an early stage with greater accuracy than traditional methods. For example, AI-powered software can analyze mammograms to identify tumors that may be missed by the human eye. This can lead to earlier diagnoses and better patient outcomes.'),\n",
       "  2638.2407)]"
      ]
     },
     "execution_count": 29,
     "metadata": {},
     "output_type": "execute_result"
    }
   ],
   "source": [
    "docs_and_score"
   ]
  },
  {
   "cell_type": "markdown",
   "metadata": {},
   "source": [
    "**Chroma DB**"
   ]
  },
  {
   "cell_type": "code",
   "execution_count": null,
   "metadata": {},
   "outputs": [],
   "source": []
  }
 ],
 "metadata": {
  "kernelspec": {
   "display_name": "Python 3",
   "language": "python",
   "name": "python3"
  },
  "language_info": {
   "codemirror_mode": {
    "name": "ipython",
    "version": 3
   },
   "file_extension": ".py",
   "mimetype": "text/x-python",
   "name": "python",
   "nbconvert_exporter": "python",
   "pygments_lexer": "ipython3",
   "version": "3.12.5"
  }
 },
 "nbformat": 4,
 "nbformat_minor": 2
}
