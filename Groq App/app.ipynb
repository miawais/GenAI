{
 "cells": [
  {
   "cell_type": "code",
   "execution_count": 2,
   "metadata": {},
   "outputs": [
    {
     "data": {
      "text/plain": [
       "'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'"
      ]
     },
     "execution_count": 2,
     "metadata": {},
     "output_type": "execute_result"
    }
   ],
   "source": [
    "import os \n",
    "from dotenv import load_dotenv\n",
    "load_dotenv()\n",
    "\n",
    "groq_api_key=os.getenv(\"GROQ_API_KEY\")\n"
   ]
  },
  {
   "cell_type": "code",
   "execution_count": 5,
   "metadata": {},
   "outputs": [
    {
     "data": {
      "text/plain": [
       "ChatGroq(client=<groq.resources.chat.completions.Completions object at 0x0000024F7D5E39E0>, async_client=<groq.resources.chat.completions.AsyncCompletions object at 0x0000024F7D604530>, model_name='Gemma2-9b-It', model_kwargs={}, groq_api_key=SecretStr('**********'))"
      ]
     },
     "execution_count": 5,
     "metadata": {},
     "output_type": "execute_result"
    }
   ],
   "source": [
    "from langchain_groq import ChatGroq\n",
    "model=ChatGroq(model=\"Gemma2-9b-It\",groq_api_key=groq_api_key)\n",
    "model"
   ]
  },
  {
   "cell_type": "code",
   "execution_count": 8,
   "metadata": {},
   "outputs": [],
   "source": [
    "from langchain_core.messages import HumanMessage,SystemMessage\n",
    "\n",
    "messages=[\n",
    "    SystemMessage(content=\"Translate the following from English to Punjabi\"),\n",
    "    HumanMessage(content=\"Hello Brother How are you \")\n",
    "]\n",
    "\n",
    "response=model.invoke(messages).\n"
   ]
  },
  {
   "cell_type": "code",
   "execution_count": 9,
   "metadata": {},
   "outputs": [
    {
     "name": "stdout",
     "output_type": "stream",
     "text": [
      "content=\"Here's the translation:\\n\\n**Hello Brother, How are you?**  --> **ਨਾਲੀਆ ਭਾਈ, ਕਿੱਥੋਂ ਆ?** (Naalliaa Bhaai, Kitthon Aa?) \\n\\n**Brother, How are you?** --> **ਭਾਈ, ਕਿੱਥੋਂ ਆ?** (Bhaai, Kitthon Aa?)\\n\\n\\n**Explanation:**\\n\\n* **ਨਾਲੀਆ (Naalliaa)** - Hello\\n* **ਭਾਈ (Bhaai)** - Brother\\n* **ਕਿੱਥੋਂ (Kitthon)** - How \\n* **ਆ? (Aa?)** - Are you?\\n\\n\\n\\nLet me know if you have any other phrases you'd like translated! 😊 \\n\" additional_kwargs={} response_metadata={'token_usage': {'completion_tokens': 154, 'prompt_tokens': 22, 'total_tokens': 176, 'completion_time': 0.28, 'prompt_time': 0.00016599, 'queue_time': 0.01313256, 'total_time': 0.28016599}, 'model_name': 'Gemma2-9b-It', 'system_fingerprint': 'fp_10c08bf97d', 'finish_reason': 'stop', 'logprobs': None} id='run-c1f663d7-0440-43be-a735-ddbdb6f92e73-0' usage_metadata={'input_tokens': 22, 'output_tokens': 154, 'total_tokens': 176}\n"
     ]
    }
   ],
   "source": [
    "print(response)"
   ]
  },
  {
   "cell_type": "code",
   "execution_count": 10,
   "metadata": {},
   "outputs": [
    {
     "data": {
      "text/plain": [
       "\"Here's the translation:\\n\\n**Hello Brother, How are you?**  --> **ਨਾਲੀਆ ਭਾਈ, ਕਿੱਥੋਂ ਆ?** (Naalliaa Bhaai, Kitthon Aa?) \\n\\n**Brother, How are you?** --> **ਭਾਈ, ਕਿੱਥੋਂ ਆ?** (Bhaai, Kitthon Aa?)\\n\\n\\n**Explanation:**\\n\\n* **ਨਾਲੀਆ (Naalliaa)** - Hello\\n* **ਭਾਈ (Bhaai)** - Brother\\n* **ਕਿੱਥੋਂ (Kitthon)** - How \\n* **ਆ? (Aa?)** - Are you?\\n\\n\\n\\nLet me know if you have any other phrases you'd like translated! 😊 \\n\""
      ]
     },
     "execution_count": 10,
     "metadata": {},
     "output_type": "execute_result"
    }
   ],
   "source": [
    "from langchain_core.output_parsers import StrOutputParser\n",
    "parser=StrOutputParser()\n",
    "parser.invoke(response)\n"
   ]
  },
  {
   "cell_type": "markdown",
   "metadata": {},
   "source": [
    "**LCEL**"
   ]
  },
  {
   "cell_type": "code",
   "execution_count": 11,
   "metadata": {},
   "outputs": [
    {
     "data": {
      "text/plain": [
       "'Here\\'s the translation:\\n\\n**Hello Brother, How are you?**  ->  **ਬ}$$ Hello Bhai, Kya haal hai?** (Hello Bhai, How are you?)\\n\\n**Brother, How How are you?** ->  **Bhai, Kya haal hai?** (Brother, How are you?) \\n\\n**Explanation:**\\n\\n* **Bhai** means \"brother\"\\n* **Kya haal hai?** means \"How are you?\"  \\n\\n\\nLet me know if you\\'d like to translate anything else! \\n'"
      ]
     },
     "execution_count": 11,
     "metadata": {},
     "output_type": "execute_result"
    }
   ],
   "source": [
    "chain=model|parser\n",
    "chain.invoke(messages)"
   ]
  },
  {
   "cell_type": "markdown",
   "metadata": {},
   "source": [
    "**PROMPT TEMPLATES**"
   ]
  },
  {
   "cell_type": "code",
   "execution_count": 12,
   "metadata": {},
   "outputs": [],
   "source": [
    "from langchain_core.prompts import ChatPromptTemplate\n",
    "\n",
    "generic_template=\"Translate the following into {language}:\"\n",
    "\n",
    "prompt=ChatPromptTemplate.from_messages(\n",
    "    [(\"system\",generic_template),\n",
    "    (\"user\",\"{text}\")\n",
    "    ]\n",
    ")\n"
   ]
  },
  {
   "cell_type": "code",
   "execution_count": 16,
   "metadata": {},
   "outputs": [],
   "source": [
    "results=prompt.invoke({\"language\":\"Punjabi\",\"text\":\"Hello\"})"
   ]
  },
  {
   "cell_type": "code",
   "execution_count": 17,
   "metadata": {},
   "outputs": [
    {
     "data": {
      "text/plain": [
       "[SystemMessage(content='Translate the following into Punjabi:', additional_kwargs={}, response_metadata={}),\n",
       " HumanMessage(content='Hello', additional_kwargs={}, response_metadata={})]"
      ]
     },
     "execution_count": 17,
     "metadata": {},
     "output_type": "execute_result"
    }
   ],
   "source": [
    "results.to_messages()"
   ]
  },
  {
   "cell_type": "code",
   "execution_count": 20,
   "metadata": {},
   "outputs": [
    {
     "data": {
      "text/plain": [
       "'The Punjabi translation for \"Hello\" is **\"Sat Sri Akal\"** \\n\\nIt\\'s a respectful greeting used in Punjabi culture.  \\n'"
      ]
     },
     "execution_count": 20,
     "metadata": {},
     "output_type": "execute_result"
    }
   ],
   "source": [
    "chain=prompt|model|parser\n",
    "chain.invoke({\"language\":\"Punjabi\",\"text\":\"Hello\"})\n"
   ]
  }
 ],
 "metadata": {
  "kernelspec": {
   "display_name": "Python 3",
   "language": "python",
   "name": "python3"
  },
  "language_info": {
   "codemirror_mode": {
    "name": "ipython",
    "version": 3
   },
   "file_extension": ".py",
   "mimetype": "text/x-python",
   "name": "python",
   "nbconvert_exporter": "python",
   "pygments_lexer": "ipython3",
   "version": "3.12.5"
  }
 },
 "nbformat": 4,
 "nbformat_minor": 2
}
